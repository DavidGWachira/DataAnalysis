{
 "cells": [
  {
   "cell_type": "raw",
   "id": "cd5e79db-2bef-4332-ab4d-5082f8faba13",
   "metadata": {},
   "source": [
    "This guide is aimed to help you run some DATA EXPLORATION on your dataset using either R or Python programming language \n",
    "Remane the quoted names to match the names on your dataset"
   ]
  },
  {
   "cell_type": "markdown",
   "id": "29e884b5-e9d0-45c1-978c-6a24e35ac45c",
   "metadata": {},
   "source": [
    "1. a) Make a copy of the dataset - R"
   ]
  },
  {
   "cell_type": "code",
   "execution_count": null,
   "id": "1f62ca88-766d-47b1-90d2-d496d21d9f61",
   "metadata": {},
   "outputs": [],
   "source": [
    "# \"new_data\" is the name you want to call your dataset copy\n",
    "# \"data1\" is the name of the original dataset\n",
    "new_data <- data1\n",
    "head(new_data) # View the first few records in the dataset"
   ]
  },
  {
   "cell_type": "markdown",
   "id": "6e896553-cb60-4b18-a221-4f61ec7a69fb",
   "metadata": {},
   "source": [
    "1. b) Make a copy of the dataset - Python"
   ]
  },
  {
   "cell_type": "code",
   "execution_count": null,
   "id": "021db89f-6cba-4b9a-bdfd-e633bbb76890",
   "metadata": {},
   "outputs": [],
   "source": [
    "new_data = data1.copy()\n",
    "new_data.head() # View the last few records in the dataset"
   ]
  },
  {
   "cell_type": "markdown",
   "id": "eabee7da-9535-4fea-bc29-5263691b1083",
   "metadata": {},
   "source": [
    "2. a) Check the dimensions of the dataset - R"
   ]
  },
  {
   "cell_type": "code",
   "execution_count": null,
   "id": "0db0184e-03e4-4b21-a3f7-65cc9f25bbfc",
   "metadata": {},
   "outputs": [],
   "source": [
    "dim(new_data) # Returns both No of Columns and Rows\n",
    "nrow(new_data) # Returns just the No of Rows\n",
    "ncol(new_data) # Returns just the No of Columns"
   ]
  },
  {
   "cell_type": "markdown",
   "id": "9a1ba37c-a822-4ad5-a24d-5a81cb4458b8",
   "metadata": {},
   "source": [
    "2. b) Check the dimensions of the dataset - Python"
   ]
  },
  {
   "cell_type": "code",
   "execution_count": null,
   "id": "5e1fd962-2a31-45d0-a50d-bb4f29032c60",
   "metadata": {},
   "outputs": [],
   "source": [
    "new_data.shape # Returns both No of Columns and Rows\n",
    "len(new_data) # Returns just the No of Rows\n",
    "len(new_data.columns) # Returns just the No of Columns"
   ]
  },
  {
   "cell_type": "code",
   "execution_count": null,
   "id": "e543b6e2-5d1d-4d7f-9b2c-97f71a6efdf3",
   "metadata": {},
   "outputs": [],
   "source": [
    "3. a) Check the summary statistics - R"
   ]
  },
  {
   "cell_type": "code",
   "execution_count": null,
   "id": "39229f66-abe5-4112-a7ab-7922815bca9c",
   "metadata": {},
   "outputs": [],
   "source": [
    "# Overall function is summary() - It returns the Min, 1st Qu, Median, Mean, 3rd Qu, Max\n",
    "summary(new_data) # However this does not work for categorical variables in your dataset\n",
    "\n",
    "# To run specific statistics on specific columns/variables\n",
    "# \"new_data\" is the name of the dataset\n",
    "# \"column_name\" is the column/variable of interest\n",
    "# \"na.rm = T\" tells R to not consider any missing values in the calculation\n",
    "mean(new_data$column_name, na.rm = T)\n",
    "median(new_data$column_name, na.rm = T)\n",
    "sd(new_data$column_name, na.rm = T)\n",
    "min(new_data$column_name, na.rm = T)\n",
    "max(new_data$column_name, na.rm = T)"
   ]
  },
  {
   "cell_type": "code",
   "execution_count": null,
   "id": "9aa382d8-cf9e-4c2b-b6aa-e8062fa77c67",
   "metadata": {},
   "outputs": [],
   "source": [
    "# Summarizing categorical data variables\n",
    "# table() function - returns the frequency\n",
    "table(new_data$column_name)\n",
    "# prop.table() function - returns the proportion of each value of that variable\n",
    "prop.table(table(new_data$column_name)) # Proportion\n",
    "prop.table(table(new_data$column_name) * 100) # Percentage"
   ]
  },
  {
   "cell_type": "code",
   "execution_count": null,
   "id": "95bf4e44-7ca9-465c-892e-dea7f9296a84",
   "metadata": {},
   "outputs": [],
   "source": [
    "3. b) Check the summary statistics - Python"
   ]
  },
  {
   "cell_type": "code",
   "execution_count": null,
   "id": "5a67a8c5-38c3-4d33-b2af-6c7ac12b7541",
   "metadata": {},
   "outputs": [],
   "source": [
    "# Calculate descriptive statistics for continuous variables - returns count, mean, std, min, quartiles, max\n",
    "new_data.describe()\n",
    "\n",
    "# To run specific statistics on specific columns/variables\n",
    "# \"new_data\" is the name of the dataset\n",
    "# \"column_name\" is the column/variable of interest\n",
    "new_data[\"column_name\"].mean()\n",
    "new_data[\"column_name\"].median()\n",
    "new_data[\"column_name\"].max()"
   ]
  },
  {
   "cell_type": "code",
   "execution_count": null,
   "id": "f24a206f-f8ba-4992-9136-50e1092bee71",
   "metadata": {},
   "outputs": [],
   "source": [
    "# Summarizing categorical data variables only - returns count, unique, top, freq\n",
    "new_data.describe(include='object')\n",
    "\n",
    "# To use value_counts() function\n",
    "new_data[\"column_name\"].value_counts() # Counts\n",
    "new_data['column_name'].value_counts(normalize=True) # Proportions\n",
    "new_data['column_name'].value_counts(normalize=True) *100 # Percentage"
   ]
  },
  {
   "cell_type": "markdown",
   "id": "3bf65441-f7e2-4800-afed-79abd22c870e",
   "metadata": {},
   "source": [
    "4. a) Check if your dataset has any missing values - R"
   ]
  },
  {
   "cell_type": "code",
   "execution_count": null,
   "id": "c95354c5-e849-4289-b1f8-b25a56898da4",
   "metadata": {},
   "outputs": [],
   "source": [
    "is.na(new_data) # Returns TRUE for entries with missing values and FALSE for entries without missing values\n",
    "sum(is.na(new_data)) # Returns the sum of all missing values in each column/variable"
   ]
  },
  {
   "cell_type": "code",
   "execution_count": null,
   "id": "c2279077-a0a1-446d-8c31-2f8ab5b3f3f7",
   "metadata": {},
   "outputs": [],
   "source": [
    "4. b) Check if your dataset has any missing values - Python"
   ]
  },
  {
   "cell_type": "code",
   "execution_count": null,
   "id": "eb905ed1-206f-4cde-95d1-8aceda069bce",
   "metadata": {},
   "outputs": [],
   "source": [
    "Automobile.isnull() # Returns TRUE for entries with missing values and FALSE for entries without missing values\n",
    "Automobile.isnull().sum() # Returns the sum of all missing values in each column/variable"
   ]
  },
  {
   "cell_type": "code",
   "execution_count": null,
   "id": "dd092b5e-d3df-4b5d-a32a-989ef8760449",
   "metadata": {},
   "outputs": [],
   "source": [
    "5. a) Plots to help visualize variables - R"
   ]
  },
  {
   "cell_type": "code",
   "execution_count": null,
   "id": "07d62e57-b5e2-4fc5-979e-3e974cbf707e",
   "metadata": {},
   "outputs": [],
   "source": [
    "# Histograms provide a visual representation of how the data points are spread out around the mean (average) value of the dataset.\n",
    "# \"new_data\" is the name of the dataset\n",
    "# \"column_name\" is the column/variable of interest\n",
    "hist(new_data$column_name)\n",
    "\n",
    "# Scatter plots show the relationship between two variables\n",
    "# \"column1\" and \"column2\" are the variables analyzed for relationship\n",
    "plot(new_data$column1, new_data$column2)"
   ]
  },
  {
   "cell_type": "code",
   "execution_count": null,
   "id": "f7c923ae-e533-4156-91f1-00cef4868043",
   "metadata": {},
   "outputs": [],
   "source": []
  },
  {
   "cell_type": "code",
   "execution_count": null,
   "id": "f3a656ff-cef8-45b2-8e0a-576491471670",
   "metadata": {},
   "outputs": [],
   "source": [
    "5. b) Plots to help visualize variables - Python"
   ]
  },
  {
   "cell_type": "code",
   "execution_count": null,
   "id": "20e07ea5-81e1-46ad-84e2-2098e395c7be",
   "metadata": {},
   "outputs": [],
   "source": [
    "# To plot a histogram using pandas\n",
    "# First import the pandas library\n",
    "# \"new_data\" is the name of the dataset\n",
    "# \"column_name\" is the column/variable of interest\n",
    "import pandas as pd\n",
    "new_data.hist(column='column_name')\n",
    "\n",
    "# Scatter plots show the relationship between two variables\n",
    "# \"column1\" and \"column2\" are the variables analyzed for relationship\n",
    "import pandas as pd\n",
    "new_data.plot.scatter(x=\"column1\", y=\"column2\")"
   ]
  },
  {
   "cell_type": "code",
   "execution_count": null,
   "id": "0ac7531c-f6eb-4e83-88ff-4d7245261d02",
   "metadata": {},
   "outputs": [],
   "source": []
  },
  {
   "cell_type": "code",
   "execution_count": null,
   "id": "481e33bd-d656-456b-bc6d-7645f7d018d1",
   "metadata": {},
   "outputs": [],
   "source": []
  }
 ],
 "metadata": {
  "kernelspec": {
   "display_name": "Python 3 (ipykernel)",
   "language": "python",
   "name": "python3"
  },
  "language_info": {
   "codemirror_mode": {
    "name": "ipython",
    "version": 3
   },
   "file_extension": ".py",
   "mimetype": "text/x-python",
   "name": "python",
   "nbconvert_exporter": "python",
   "pygments_lexer": "ipython3",
   "version": "3.11.7"
  }
 },
 "nbformat": 4,
 "nbformat_minor": 5
}
