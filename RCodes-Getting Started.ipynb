{
 "cells": [
  {
   "cell_type": "raw",
   "id": "ff31ec3d-315a-4006-a3a8-a7df3fce5794",
   "metadata": {},
   "source": [
    "This guide is aimed to help you run some basic analysis on your dataset using R programming language\n",
    "Remane the quoted names to match the names on your dataset"
   ]
  },
  {
   "cell_type": "markdown",
   "id": "ecc8cece-5ca4-48e3-b543-5efe2467c21a",
   "metadata": {},
   "source": [
    "1. Join two datasets together"
   ]
  },
  {
   "cell_type": "code",
   "execution_count": null,
   "id": "d660c717-14c7-431d-a478-842971a5e6bc",
   "metadata": {},
   "outputs": [],
   "source": [
    "# Assign the new dataset a name - \"data\"\n",
    "# \"inner_join\" gives results (records) that are in both datasets that you are joining\n",
    "# \"dataset_55451009_person_df\" This is the name of the first dataset\n",
    "# \"dataset_55451009_survey_df\" This is the name of the second dataset\n",
    "data <- inner_join(dataset_55451009_person_df,\n",
    "                             dataset_55451009_survey_df) %>%\n",
    "  mutate_if(is.list, as.character)\n",
    "\n",
    "dim(data) # This shows the dimensions (rows, columns) of your dataset\n",
    "head(data, 5) # This displays the top 5 records on your dataset\n",
    "tail(data, 6) # This displays the bottom 6 records on your dataset"
   ]
  },
  {
   "cell_type": "markdown",
   "id": "95c8274b-9ae6-4e92-9467-221185516a8c",
   "metadata": {},
   "source": [
    "2. Calculate the age of the participants"
   ]
  },
  {
   "cell_type": "markdown",
   "id": "44e4d5a1-29c4-4c8e-ba3a-8dbacc0a4be7",
   "metadata": {},
   "source": [
    "    a) Age as of the date of the survey completion"
   ]
  },
  {
   "cell_type": "code",
   "execution_count": null,
   "id": "4764381d-d08a-4ba6-a392-608ae74fed18",
   "metadata": {},
   "outputs": [],
   "source": [
    "# \"data2\" - The name of the new dataset with the age variable\n",
    "# \"data\" - The name of the dataset containing the information we need (years) for age calculation\n",
    "# age is calculated by subtracting the \"date_of_birth\" variable found in the \"data\" dataset from the \"survey_datetime\" variable found in the \"data\" dataset\n",
    "data2 <- data %>%\n",
    "                mutate_if(is.list, as.character) %>%\n",
    "                mutate(age = year(data$survey_datetime) - year(data$date_of_birth))\n",
    "head(data2) # Output the first few records of the new dataset \"data2\"\n",
    "head(data2$age, 5) # Output the first 5 records of the age variable"
   ]
  },
  {
   "cell_type": "markdown",
   "id": "9723a55b-c0c2-4cdb-a5bc-682fefcc05af",
   "metadata": {},
   "source": [
    "    b) Current Age - This will give the age as of today, without considering if the participants are alive or not"
   ]
  },
  {
   "cell_type": "code",
   "execution_count": null,
   "id": "32ceac6c-9272-4d1b-a965-2304f3232ff4",
   "metadata": {},
   "outputs": [],
   "source": [
    "data2 <- data %>%\n",
    "                mutate_if(is.list, as.character) %>%\n",
    "                mutate(age = year(today()) - year(data$date_of_birth))"
   ]
  },
  {
   "cell_type": "markdown",
   "id": "e27f1bbc-396e-47f5-9f73-20a40c9187dc",
   "metadata": {},
   "source": [
    "3. Select the Columns you need for your analysis"
   ]
  },
  {
   "cell_type": "markdown",
   "id": "e7416af7-a2b6-408e-832b-982c60369f49",
   "metadata": {},
   "source": [
    "    a) keep the wanted columns"
   ]
  },
  {
   "cell_type": "code",
   "execution_count": null,
   "id": "1b621965-c047-44df-94da-45788ce10bcc",
   "metadata": {},
   "outputs": [],
   "source": [
    "# \"data3\" - The name of the updated dataset with the only columns you want\n",
    "# \"data2\" - The name of the dataset with the data we need\n",
    "# Quote the columns you wish to keep\n",
    "data3 <- data2[, c(\"person_id\", \"gender\", \"race\", \"ethnicity\", \"age\", \"question_concept_id\", \"question\", \"answer\")]\n",
    "head(data3)"
   ]
  },
  {
   "cell_type": "markdown",
   "id": "2d99455a-9903-46b9-bb71-032f909b18e7",
   "metadata": {},
   "source": [
    "    b) Drop the unwanted columns"
   ]
  },
  {
   "cell_type": "code",
   "execution_count": null,
   "id": "0532ab5f-26f3-4b24-934e-3e1517de5521",
   "metadata": {},
   "outputs": [],
   "source": [
    "# \"data3\" - The name of the updated dataset with the only columns you want\n",
    "# \"data2\" - The name of the dataset with the data we need\n",
    "# The negative sign \"-\" indicates which columns to drop\n",
    "data3 <- select(data2, -procedure_concept_id, -standard_concept_code, -visit_occurrence_concept_name,\n",
    "                             -procedure_source_concept_id, -source_concept_name, -date_of_birth, -sex_at_birth)\n",
    "head(data3)"
   ]
  },
  {
   "cell_type": "markdown",
   "id": "173ba068-8ba5-40ab-b444-bce43d8bf65e",
   "metadata": {},
   "source": [
    "4. Summary statistics "
   ]
  },
  {
   "cell_type": "markdown",
   "id": "9d62139f-4cee-48fe-8be7-086432f88dc0",
   "metadata": {},
   "source": [
    "    a) For numerical variables"
   ]
  },
  {
   "cell_type": "code",
   "execution_count": null,
   "id": "6d5ed338-b01c-4fee-9ef9-cf7e7840da77",
   "metadata": {},
   "outputs": [],
   "source": [
    "# \"data3\" - Name of the dataset\n",
    "# \"age\" - Numerical variable of interest\n",
    "summary(data3$age)"
   ]
  },
  {
   "cell_type": "markdown",
   "id": "2e41e480-fd6f-4e92-8bc8-52bd1cfdcd37",
   "metadata": {},
   "source": [
    "    b) For categorical variables"
   ]
  },
  {
   "cell_type": "code",
   "execution_count": null,
   "id": "c9a34d26-174f-4d78-9851-1cbc98dae4b9",
   "metadata": {},
   "outputs": [],
   "source": [
    "# Use the \"table\" function\n",
    "# \"data3\" - Name of your dataset\n",
    "# replace \"gender\" with your variable of interest\n",
    "gender_table <- table(data3$gender)\n",
    "gender_table_sort <- sort(table(data3$gender), decreasing = TRUE) # Sort the results\n",
    "gender_table_sort # Output the results"
   ]
  },
  {
   "cell_type": "code",
   "execution_count": null,
   "id": "a6383fc0-eee0-4b04-ab08-e3d165be2599",
   "metadata": {},
   "outputs": [],
   "source": [
    "# % representation of gender\n",
    "prop.table(gender_table) * 100"
   ]
  },
  {
   "cell_type": "markdown",
   "id": "5b564826-5489-40f6-a993-fbaa917bf57e",
   "metadata": {},
   "source": [
    "    c) Custom table to analyze two variables"
   ]
  },
  {
   "cell_type": "code",
   "execution_count": null,
   "id": "7c970659-ab99-4cb0-9e2a-bf5b0b507dd9",
   "metadata": {},
   "outputs": [],
   "source": [
    "# Use the \"table\" function\n",
    "# \"data3\" - Name of your dataset\n",
    "# replace \"gender\" and \"race\" with your variables of interest\n",
    "table(data3$gender, data3$race)"
   ]
  },
  {
   "cell_type": "markdown",
   "id": "00ca7550-381a-4bd3-a4dd-e12ac0ceb62f",
   "metadata": {},
   "source": [
    "5. Age Bins"
   ]
  },
  {
   "cell_type": "code",
   "execution_count": null,
   "id": "6970e598-2140-46e8-b3b2-3cd7e0a809b1",
   "metadata": {},
   "outputs": [],
   "source": [
    "# \"data3\" name of your dataset\n",
    "# \"age_bins\" new column being calculated, and appended to the \"data3\" dataset\n",
    "# \"breaks\" - The age cuts you want\n",
    "# \"labels\" - How you want to label your age bins\n",
    "data3$age_bins <- cut(data3$age, \n",
    "                                breaks = c(0, 25, 50, 75, 100),\n",
    "                                labels = c(\"0-25\", \"26-50\", \"51-75\", \"76+\"),\n",
    "                                include.lowest = TRUE)\n",
    "head(data3)"
   ]
  },
  {
   "cell_type": "markdown",
   "id": "88884e18-7f2b-4f9e-95c1-0e1dedcc5910",
   "metadata": {},
   "source": [
    "6. Plots"
   ]
  },
  {
   "cell_type": "code",
   "execution_count": null,
   "id": "1f8932a7-5417-45c4-a422-ea208046d1a2",
   "metadata": {},
   "outputs": [],
   "source": [
    "# First create a table with the variables you need to plot\n",
    "# To plot the gender representation\n",
    "gender_table <- table(data3$gender) # Create a table\n",
    "gender_table_sorted <- sort(table(data3$gender), decreasing = TRUE) # Sort the table\n",
    "gender_table_sorted # View the output"
   ]
  },
  {
   "cell_type": "code",
   "execution_count": null,
   "id": "08efa2a3-dee4-48e5-a4d8-8b0b41bed159",
   "metadata": {},
   "outputs": [],
   "source": [
    "# Second - do the actual plot\n",
    "# Optional - Set scipen option to prevent scientific notation\n",
    "options(scipen = 10)\n",
    "\n",
    "# Optional - Adjust the plot margins to accommodate longer labels\n",
    "# Inside the bracket: 10 reps on the bottom margin, 6 reps on the left, 4 reps on top, 2 reps on the right, and 0.1 reps inches added to each margin\n",
    "par(mar = c(10, 6, 4, 2) + 0.1) \n",
    "\n",
    "# Create a bar plot using base R\n",
    "# \"gender_table_sorted\" - Name of the table/data to be plotted\n",
    "# \"las = 2\" - displays labels perpendicularly to the x-axis. \n",
    "# \"las = 1\" displays horizontally, \"las = 3\" displays both axis vertically, and \"las = 0\" (default) displays parallel to the x-axis\n",
    "barplot(gender_table_sorted, main = \"Bar Plot of Gender (Descending Order)\", \n",
    "        xlab = \"Categories\", ylab = \"Count\", las = 2)\n",
    " "
   ]
  },
  {
   "cell_type": "markdown",
   "id": "68449809-f455-4172-9cd7-b2c36ea6098b",
   "metadata": {},
   "source": [
    "7. Subsetting a dataset "
   ]
  },
  {
   "cell_type": "code",
   "execution_count": null,
   "id": "6ea4c273-e579-42a0-abe3-4e8906746c01",
   "metadata": {},
   "outputs": [],
   "source": [
    "# You can subset the dataset to analyze a specific group\n",
    "# Assuming you want to analyze participants in your dataset who were diagnosed\n",
    "# Assign a name to the target group - In this case, we are targeting the group/records with ID = 836772\n",
    "# Assign a name to the new dataset being created - \"diagnosed data\"\n",
    "# \"data3\" - the dataset with the data needed\n",
    "# \"question_concept_id\" - the name of the column of interest\n",
    "# \"diagnosed\" name given to the target group IDs\n",
    "\n",
    "diagnosed <- \"836772\"\n",
    "diagnosed_data <- data3[data3$question_concept_id == diagnosed, ]\n",
    "head(diagnosed_data)\n",
    "dim(diagnosed_data)"
   ]
  },
  {
   "cell_type": "markdown",
   "id": "acb6c3d8-208b-46e1-9475-fbfb01d4ba86",
   "metadata": {},
   "source": [
    "8. Cleaning Records "
   ]
  },
  {
   "cell_type": "code",
   "execution_count": null,
   "id": "d24ed482-b005-4ae0-9707-09a6537baf46",
   "metadata": {},
   "outputs": [],
   "source": [
    "# Some of the records in the dataset are too long and not easy to read/represent on a plot/table\n",
    "# To solve this, we will create a new variable with shorter and more easily representable values\n",
    "# Take an example of the \"gender\" variable\n",
    "table(data3$gender)"
   ]
  },
  {
   "cell_type": "code",
   "execution_count": null,
   "id": "d2ff983c-ef3e-4ee3-a3ee-37a0e5e8a6fd",
   "metadata": {},
   "outputs": [],
   "source": [
    "# Let us now clean these responses to shorter and easily representable responses\n",
    "# Load necessary libraries if not already loaded\n",
    "install.packages(\"dplyr\") # used for data manipulation\n",
    "library(dplyr)\n",
    "\n",
    "# \"data4\" - Name of the new dataset\n",
    "# \"data3\" - Name of the dataset with the data we need for the analysis\n",
    "# \"edited_gender\" - New column with edited gender responses\n",
    "data4 <- data3 %>%\n",
    "  mutate(edited_gender = case_when\n",
    "  (\n",
    "    gender %in% c(\"Not man only, not woman only, prefer not to answer, or skipped\",\n",
    "                  \"Gender Identity: Additional Options\", \"PMI: Skip\",\n",
    "                  \"I prefer not to answer\") ~ \"Other/Skip\",\n",
    "    gender == \"Gender Identity: Non Binary\" ~ \"Non Binary\",\n",
    "    gender == \"Gender Identity: Transgender\" ~ \"Transgender\",\n",
    "    gender == \"Male\" ~ \"Male\",\n",
    "    gender == \"Female\" ~ \"Female\",\n",
    "    TRUE ~ as.character(gender) # Keep other responses as they are\n",
    "  )) %>%\n",
    "  select(person_id, edited_gender, race, ethnicity, age, question_concept_id, question, answer) \n",
    "\n",
    "head(data4) # Display the new dataset"
   ]
  },
  {
   "cell_type": "code",
   "execution_count": null,
   "id": "ba7c00a5-13d0-42f8-9b22-2dbeb9345198",
   "metadata": {},
   "outputs": [],
   "source": [
    "# Take a look at the new representation of the gender\n",
    "table(data4$edited_gender)"
   ]
  },
  {
   "cell_type": "code",
   "execution_count": null,
   "id": "e1b01b70-4713-4e96-9cc7-0622ecd86e84",
   "metadata": {},
   "outputs": [],
   "source": []
  }
 ],
 "metadata": {
  "kernelspec": {
   "display_name": "Python 3 (ipykernel)",
   "language": "python",
   "name": "python3"
  },
  "language_info": {
   "codemirror_mode": {
    "name": "ipython",
    "version": 3
   },
   "file_extension": ".py",
   "mimetype": "text/x-python",
   "name": "python",
   "nbconvert_exporter": "python",
   "pygments_lexer": "ipython3",
   "version": "3.11.7"
  }
 },
 "nbformat": 4,
 "nbformat_minor": 5
}
